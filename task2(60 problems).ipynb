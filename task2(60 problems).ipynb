{
 "cells": [
  {
   "cell_type": "markdown",
   "id": "759d04ba",
   "metadata": {},
   "source": [
    "**1-Write a Python program to calculate the length of a string using 2 ways"
   ]
  },
  {
   "cell_type": "code",
   "execution_count": null,
   "id": "e434c950",
   "metadata": {},
   "outputs": [],
   "source": [
    "string=input()\n",
    "print(len(string))"
   ]
  },
  {
   "cell_type": "code",
   "execution_count": null,
   "id": "7a2dfa32",
   "metadata": {},
   "outputs": [],
   "source": [
    "string=input()\n",
    "num=0\n",
    "for i in string:\n",
    "    num+=1\n",
    "print(num)\n",
    "    "
   ]
  },
  {
   "cell_type": "markdown",
   "id": "d7cc9da7",
   "metadata": {},
   "source": [
    "**2-Write a Python program to get a string made of the first 2 and last 2 characters of a given string. If the string length is less than 2, return the empty string instead (\"##Sample String : 'w3resource'\n",
    "Expected Result : 'w3ce'\n",
    "##Sample String : 'w3'\n",
    "Expected Result : 'w3w3'\n",
    "##Sample String : ' w'\n",
    "Expected Result : Empty String)"
   ]
  },
  {
   "cell_type": "code",
   "execution_count": null,
   "id": "dafa9dd8",
   "metadata": {},
   "outputs": [],
   "source": [
    "string=input()\n",
    "print(string[0:2]+string[-2]+string[-1])"
   ]
  },
  {
   "cell_type": "markdown",
   "id": "1534f956",
   "metadata": {},
   "source": [
    "**3-Write a Python program to add 'ing' at the end of a given string (length should be at least 3). If the given string already ends with 'ing', add 'ly' instead. If the string length of the given string is less than 3, leave it unchanged. (Sample String : 'abc'\n",
    "Expected Result : 'abcing')"
   ]
  },
  {
   "cell_type": "code",
   "execution_count": 5,
   "id": "7ff8cec4",
   "metadata": {},
   "outputs": [
    {
     "name": "stdout",
     "output_type": "stream",
     "text": [
      "abcing\n",
      "abcingly\n"
     ]
    }
   ],
   "source": [
    "string=input()\n",
    "newstring=string\n",
    "if len(string)>=3 :\n",
    "    if string.endswith(\"ing\"):\n",
    "        newstring+=\"ly\"\n",
    "    else:\n",
    "        newstring+=\"ing\"\n",
    "else:\n",
    "    newstring\n",
    "print(newstring)"
   ]
  },
  {
   "cell_type": "markdown",
   "id": "1c0a6627",
   "metadata": {},
   "source": [
    "**4-Write a Python function that takes a list of words and return the longest word and the length of the longest one\n",
    "(Longest word: Exercises\n",
    "Length of the longest word: 9)"
   ]
  },
  {
   "cell_type": "code",
   "execution_count": 10,
   "id": "397341d9",
   "metadata": {},
   "outputs": [
    {
     "name": "stdout",
     "output_type": "stream",
     "text": [
      "The longest word is Exercises with length 9\n"
     ]
    }
   ],
   "source": [
    "list=[\"exam\",\"Exercises\",\"problems\"]\n",
    "\n",
    "longest = 0\n",
    "\n",
    "for words in list:\n",
    "     if len(words) > longest:\n",
    "            longest = len(words)\n",
    "            longest_word = words\n",
    "\n",
    "print(\"The longest word is\", longest_word, \"with length\", len(longest_word))"
   ]
  },
  {
   "cell_type": "markdown",
   "id": "53a03a6a",
   "metadata": {},
   "source": [
    "**5-Write a Python program to change a given string to a newly string where the first and last chars have been exchanged using 2 ways (Sample String:abca  Expected Result:ebce)"
   ]
  },
  {
   "cell_type": "code",
   "execution_count": 11,
   "id": "fd327d2a",
   "metadata": {},
   "outputs": [
    {
     "name": "stdout",
     "output_type": "stream",
     "text": [
      "abce\n",
      "ebca\n"
     ]
    }
   ],
   "source": [
    "string=input()\n",
    "print(string[-1]+string[1:-1]+string[0])"
   ]
  },
  {
   "cell_type": "code",
   "execution_count": null,
   "id": "285788b4",
   "metadata": {},
   "outputs": [],
   "source": []
  },
  {
   "cell_type": "markdown",
   "id": "25f89808",
   "metadata": {},
   "source": [
    "**6-Write a Python program to remove characters that have odd index values in a given string (Sample String:abca Expected Result:ac)"
   ]
  },
  {
   "cell_type": "code",
   "execution_count": 12,
   "id": "05959bd7",
   "metadata": {},
   "outputs": [
    {
     "name": "stdout",
     "output_type": "stream",
     "text": [
      "abcd\n",
      "ac\n"
     ]
    }
   ],
   "source": [
    "string=input()\n",
    "newstring=\"\"\n",
    "for i in range(0,len(string)):\n",
    "    if not i%2 :\n",
    "        newstring+=string[i]\n",
    "print(newstring)"
   ]
  },
  {
   "cell_type": "markdown",
   "id": "eb16e898",
   "metadata": {},
   "source": [
    "**7-Write a Python program to count the occurrences of each word in a given sentence (Sample String:amr and ahmed are frindes but amr is the tallest Expected Result:2)"
   ]
  },
  {
   "cell_type": "code",
   "execution_count": 13,
   "id": "01ce6cf5",
   "metadata": {},
   "outputs": [
    {
     "name": "stdout",
     "output_type": "stream",
     "text": [
      "amr and ahmed are frindes but amr is the tallest\n",
      "2\n",
      "1\n",
      "1\n",
      "1\n",
      "1\n",
      "1\n",
      "2\n",
      "1\n",
      "1\n",
      "1\n"
     ]
    }
   ],
   "source": [
    "string=input()\n",
    "list=string.split()\n",
    "for i in list:\n",
    "    print(list.count(i))\n"
   ]
  },
  {
   "cell_type": "markdown",
   "id": "4e8125f1",
   "metadata": {},
   "source": [
    "**8-Write a Python script that takes input from the user and displays that input back in upper and lower cases"
   ]
  },
  {
   "cell_type": "code",
   "execution_count": 14,
   "id": "66c8f778",
   "metadata": {},
   "outputs": [
    {
     "name": "stdout",
     "output_type": "stream",
     "text": [
      "lehh\n",
      "LEHH\n",
      "lehh\n"
     ]
    }
   ],
   "source": [
    "string=input()\n",
    "print(string.upper())\n",
    "print(string.lower())"
   ]
  },
  {
   "cell_type": "markdown",
   "id": "fcd68aa1",
   "metadata": {},
   "source": [
    "**9-Write a Python function to reverse a string if its length is a multiple of 4"
   ]
  },
  {
   "cell_type": "code",
   "execution_count": 15,
   "id": "0671a931",
   "metadata": {},
   "outputs": [
    {
     "name": "stdout",
     "output_type": "stream",
     "text": [
      "lehh\n",
      "hhel\n"
     ]
    }
   ],
   "source": [
    "string=input()\n",
    "if not len(string)%4 :\n",
    "    print(string[::-1])"
   ]
  },
  {
   "cell_type": "markdown",
   "id": "b577c68d",
   "metadata": {},
   "source": [
    "**10- Write a Python program to remove a newline in Python"
   ]
  },
  {
   "cell_type": "code",
   "execution_count": 16,
   "id": "e0c6525a",
   "metadata": {},
   "outputs": [
    {
     "name": "stdout",
     "output_type": "stream",
     "text": [
      "this \n",
      "['this ']\n"
     ]
    }
   ],
   "source": [
    "string=input()\n",
    "print(string.splitlines())"
   ]
  },
  {
   "cell_type": "markdown",
   "id": "80db5ae0",
   "metadata": {},
   "source": [
    "**11-Write a Python program to check whether a string starts with specified characters"
   ]
  },
  {
   "cell_type": "code",
   "execution_count": 17,
   "id": "0cc4e03e",
   "metadata": {},
   "outputs": [
    {
     "name": "stdout",
     "output_type": "stream",
     "text": [
      "lehh\n",
      "l\n",
      "True\n"
     ]
    }
   ],
   "source": [
    "string=input()\n",
    "print(string.startswith(input()))"
   ]
  },
  {
   "cell_type": "markdown",
   "id": "593a68db",
   "metadata": {},
   "source": [
    "**12- Write a Python program to add prefix text to all of the lines in a string"
   ]
  },
  {
   "cell_type": "code",
   "execution_count": 19,
   "id": "d2e46ada",
   "metadata": {},
   "outputs": [
    {
     "name": "stdout",
     "output_type": "stream",
     "text": [
      "leh\n",
      "prefixl\n",
      "l['leh']\n"
     ]
    }
   ],
   "source": [
    "string=input()\n",
    "newstring=\"\"\n",
    "for i in string.splitlines():\n",
    "    newstring+=i\n",
    "    \n",
    "print(input(\"prefix :\") + newstring )"
   ]
  },
  {
   "cell_type": "markdown",
   "id": "86fa1543",
   "metadata": {},
   "source": [
    "**13-Write a Python program to print the following numbers up to 2 decimal places"
   ]
  },
  {
   "cell_type": "code",
   "execution_count": 21,
   "id": "cd4a9d89",
   "metadata": {},
   "outputs": [
    {
     "name": "stdout",
     "output_type": "stream",
     "text": [
      "5.13\n"
     ]
    },
    {
     "data": {
      "text/plain": [
       "5.13"
      ]
     },
     "execution_count": 21,
     "metadata": {},
     "output_type": "execute_result"
    }
   ],
   "source": [
    "round(float(input()),2)"
   ]
  },
  {
   "cell_type": "markdown",
   "id": "452c0ab0",
   "metadata": {},
   "source": [
    "**14-Write a Python program to print the following numbers up to 2 decimal places with a sign"
   ]
  },
  {
   "cell_type": "code",
   "execution_count": 25,
   "id": "73e82479",
   "metadata": {},
   "outputs": [
    {
     "name": "stdout",
     "output_type": "stream",
     "text": [
      "8\n",
      "8.0\n"
     ]
    }
   ],
   "source": [
    "import numpy as numpy\n",
    "num=input()\n",
    "print(\n",
    "round(float(num),2)*numpy.sign(round(float(num),2))\n",
    ")"
   ]
  },
  {
   "cell_type": "markdown",
   "id": "32b1811a",
   "metadata": {},
   "source": [
    "**15-Write a Python program to display a number with a comma separator"
   ]
  },
  {
   "cell_type": "code",
   "execution_count": 28,
   "id": "f30fc0b6",
   "metadata": {},
   "outputs": [
    {
     "name": "stdout",
     "output_type": "stream",
     "text": [
      "1000000\n",
      "1,000,000\n"
     ]
    }
   ],
   "source": [
    "print(f\"{int(input()):,}\")"
   ]
  },
  {
   "cell_type": "markdown",
   "id": "0477f487",
   "metadata": {},
   "source": [
    "**16-Write a Python program to reverse a string using 2 ways"
   ]
  },
  {
   "cell_type": "code",
   "execution_count": 29,
   "id": "aa8beec8",
   "metadata": {},
   "outputs": [
    {
     "name": "stdout",
     "output_type": "stream",
     "text": [
      "banana\n",
      "ananab\n"
     ]
    }
   ],
   "source": [
    "string=input()\n",
    "print(string[::-1])"
   ]
  },
  {
   "cell_type": "markdown",
   "id": "5afc3166",
   "metadata": {},
   "source": [
    " **17-Write a Python program to count repeated characters in a string (hint:use dictionary)"
   ]
  },
  {
   "cell_type": "code",
   "execution_count": 31,
   "id": "515a469c",
   "metadata": {},
   "outputs": [
    {
     "name": "stdout",
     "output_type": "stream",
     "text": [
      "use dictionary\n",
      "{'u': 1, 's': 1, 'e': 1, ' ': 1, 'd': 1, 'i': 2, 'c': 1, 't': 1, 'o': 1, 'n': 1, 'a': 1, 'r': 1, 'y': 1}\n"
     ]
    }
   ],
   "source": [
    "string=input()\n",
    "dic={}\n",
    "for i in string:\n",
    "    if i in dic:\n",
    "        dic[i]+=1\n",
    "    else:\n",
    "        dic[i]=1\n",
    "print(dic)"
   ]
  },
  {
   "cell_type": "markdown",
   "id": "ae14e4e5",
   "metadata": {},
   "source": [
    "**18-Write a Python program to find the first non-repeating character in a given string"
   ]
  },
  {
   "cell_type": "code",
   "execution_count": null,
   "id": "d73778e5",
   "metadata": {},
   "outputs": [],
   "source": [
    "string=input()\n",
    "element=\"\"\n",
    "    for i in string:\n",
    "        for j in string:\n",
    "            if not j=i:\n",
    "                element=i\n",
    "print(i)"
   ]
  },
  {
   "cell_type": "markdown",
   "id": "3adf5669",
   "metadata": {},
   "source": [
    "**19-Write a Python program to remove spaces from a given string"
   ]
  },
  {
   "cell_type": "code",
   "execution_count": null,
   "id": "b4f22602",
   "metadata": {},
   "outputs": [],
   "source": [
    "string=input()\n",
    "print(string.replace(\" \", \"\"))"
   ]
  },
  {
   "cell_type": "markdown",
   "id": "734de60c",
   "metadata": {},
   "source": [
    "**20-Write a Python program to count the number of non-empty substrings of a given string"
   ]
  },
  {
   "cell_type": "code",
   "execution_count": 32,
   "id": "ef3f2274",
   "metadata": {},
   "outputs": [
    {
     "name": "stdout",
     "output_type": "stream",
     "text": [
      "kkkkk\n",
      "15.0\n"
     ]
    }
   ],
   "source": [
    "string=input()\n",
    "n=len(string)\n",
    "print(n * (n + 1) / 2)"
   ]
  },
  {
   "cell_type": "markdown",
   "id": "509998e2",
   "metadata": {},
   "source": [
    "**21-write a Python program to swap first and last element of any list."
   ]
  },
  {
   "cell_type": "code",
   "execution_count": 34,
   "id": "68692d7f",
   "metadata": {},
   "outputs": [
    {
     "name": "stdout",
     "output_type": "stream",
     "text": [
      "[6, 3, 4, 5, 1]\n"
     ]
    }
   ],
   "source": [
    "list=[1,3,4,5,6]\n",
    "newlist=[]\n",
    "newlist.append(list[-1])\n",
    "newlist.extend(list[1:-1])\n",
    "newlist.append(list[0])\n",
    "print(newlist)"
   ]
  },
  {
   "cell_type": "markdown",
   "id": "959e0837",
   "metadata": {},
   "source": [
    "**22-Given a list in Python and provided the positions of the elements, write a program to swap the two elements in the list. (Input : List = [23, 65, 19, 90], pos1 = 1, pos2 = 3\n",
    "Output : [19, 65, 23, 90])"
   ]
  },
  {
   "cell_type": "code",
   "execution_count": 35,
   "id": "225d8c6d",
   "metadata": {},
   "outputs": [
    {
     "name": "stdout",
     "output_type": "stream",
     "text": [
      "1: 1\n",
      "2: 3\n",
      "[23, 90, 19, 65]\n"
     ]
    }
   ],
   "source": [
    "list=[23, 65, 19, 90]\n",
    "pos1=int(input(\"1: \"))\n",
    "pos2=int(input(\"2: \"))\n",
    "list[pos1],list[pos2]=list[pos2],list[pos1]\n",
    "print(list)\n",
    "\n"
   ]
  },
  {
   "cell_type": "markdown",
   "id": "66fc6682",
   "metadata": {},
   "source": [
    "**23- search for the all ways to know the length of the list"
   ]
  },
  {
   "cell_type": "code",
   "execution_count": null,
   "id": "63ff8b43",
   "metadata": {},
   "outputs": [],
   "source": [
    "**24-write a Python code to find the Maximum number of list of numbers."
   ]
  },
  {
   "cell_type": "code",
   "execution_count": 36,
   "id": "15f342de",
   "metadata": {},
   "outputs": [
    {
     "name": "stdout",
     "output_type": "stream",
     "text": [
      "6\n"
     ]
    }
   ],
   "source": [
    "list=[1,3,5,1,3,6]\n",
    "print(max(list))"
   ]
  },
  {
   "cell_type": "code",
   "execution_count": null,
   "id": "1a89b9d3",
   "metadata": {},
   "outputs": [],
   "source": [
    "**25-write a Python code to find the Minimum number of list of numbers."
   ]
  },
  {
   "cell_type": "code",
   "execution_count": 37,
   "id": "21f8cbd6",
   "metadata": {},
   "outputs": [
    {
     "name": "stdout",
     "output_type": "stream",
     "text": [
      "1\n"
     ]
    }
   ],
   "source": [
    "list=[1,3,5,1,3,6]\n",
    "print(min(list))"
   ]
  },
  {
   "cell_type": "markdown",
   "id": "96822d96",
   "metadata": {},
   "source": [
    "**26-search for if an elem is existing in list"
   ]
  },
  {
   "cell_type": "code",
   "execution_count": 39,
   "id": "51ca5c9a",
   "metadata": {},
   "outputs": [
    {
     "name": "stdout",
     "output_type": "stream",
     "text": [
      "3\n",
      "existing\n"
     ]
    }
   ],
   "source": [
    "list=[1,3,5,1,3,6]\n",
    "if int(input()) in list:\n",
    "    print(\"exist\")\n",
    "else:\n",
    "    pass"
   ]
  },
  {
   "cell_type": "markdown",
   "id": "d9557da7",
   "metadata": {},
   "source": [
    "**27- clear python list using different ways"
   ]
  },
  {
   "cell_type": "code",
   "execution_count": null,
   "id": "b69858a3",
   "metadata": {},
   "outputs": [],
   "source": [
    "list=[1,3,5,1,3,6]\n",
    "list.clear()"
   ]
  },
  {
   "cell_type": "markdown",
   "id": "52160e88",
   "metadata": {},
   "source": [
    "**28-remove duplicated elements from a list"
   ]
  },
  {
   "cell_type": "code",
   "execution_count": 40,
   "id": "5e362228",
   "metadata": {},
   "outputs": [
    {
     "ename": "TypeError",
     "evalue": "'list' object is not callable",
     "output_type": "error",
     "traceback": [
      "\u001b[1;31m---------------------------------------------------------------------------\u001b[0m",
      "\u001b[1;31mTypeError\u001b[0m                                 Traceback (most recent call last)",
      "Cell \u001b[1;32mIn[40], line 2\u001b[0m\n\u001b[0;32m      1\u001b[0m mylist\u001b[38;5;241m=\u001b[39m[\u001b[38;5;241m1\u001b[39m,\u001b[38;5;241m3\u001b[39m,\u001b[38;5;241m5\u001b[39m,\u001b[38;5;241m1\u001b[39m,\u001b[38;5;241m3\u001b[39m,\u001b[38;5;241m6\u001b[39m]\n\u001b[1;32m----> 2\u001b[0m mylist\u001b[38;5;241m=\u001b[39m\u001b[38;5;28mlist\u001b[39m(\u001b[38;5;28mset\u001b[39m(mylist))\n",
      "\u001b[1;31mTypeError\u001b[0m: 'list' object is not callable"
     ]
    }
   ],
   "source": [
    "mylist=[1,3,5,1,3,6]\n",
    "mylist=list(set(mylist))\n",
    "print(mylist)"
   ]
  },
  {
   "cell_type": "markdown",
   "id": "282337f7",
   "metadata": {},
   "source": [
    "**29-Given list values and keys list, convert these values to key value pairs in form of list of dictionaries. (Input : test_list = [“Gfg”, 3, “is”, 8], key_list = [“name”, “id”]\n",
    "Output : [{‘name’: ‘Gfg’, ‘id’: 3}, {‘name’: ‘is’, ‘id’: 8}])"
   ]
  },
  {
   "cell_type": "code",
   "execution_count": 156,
   "id": "4d4e2d28",
   "metadata": {},
   "outputs": [
    {
     "name": "stdout",
     "output_type": "stream",
     "text": [
      "[{'name': 'gfg', 'id': 3}, {'name': 'is', 'id': 8}]\n"
     ]
    }
   ],
   "source": [
    "test=[\"gfg\",3,\"is\",8]\n",
    "key=[\"name\",\"id\"]\n",
    "res=[]\n",
    "num=0\n",
    "for idx in range(0, len(test), 2):\n",
    "    res.append({key[0]: test[idx], key[1] : test[idx + 1]})\n",
    "print(res)"
   ]
  },
  {
   "cell_type": "markdown",
   "id": "c26b6e9f",
   "metadata": {},
   "source": [
    "**30-write a python program to count unique values inside a list using different ways"
   ]
  },
  {
   "cell_type": "code",
   "execution_count": null,
   "id": "72132667",
   "metadata": {},
   "outputs": [],
   "source": [
    "mylist=[1,3,5,1,3,6]\n",
    "mylist=list(set(mylist))\n",
    "print(len(mylist))"
   ]
  },
  {
   "cell_type": "markdown",
   "id": "fed6677c",
   "metadata": {},
   "source": [
    "**31-write a python program Extract all elements with Frequency greater than K (Input : test_list = [4, 6, 4, 3, 3, 4, 3, 4, 3, 8], K = 3 \n",
    "Output : [4, 3] )"
   ]
  },
  {
   "cell_type": "code",
   "execution_count": 42,
   "id": "d81f3f9d",
   "metadata": {},
   "outputs": [
    {
     "ename": "SyntaxError",
     "evalue": "invalid syntax. Perhaps you forgot a comma? (1946476235.py, line 10)",
     "output_type": "error",
     "traceback": [
      "\u001b[1;36m  Cell \u001b[1;32mIn[42], line 10\u001b[1;36m\u001b[0m\n\u001b[1;33m    print(str(dic[i])+ \" ,\"str(i))\u001b[0m\n\u001b[1;37m          ^\u001b[0m\n\u001b[1;31mSyntaxError\u001b[0m\u001b[1;31m:\u001b[0m invalid syntax. Perhaps you forgot a comma?\n"
     ]
    }
   ],
   "source": [
    "list=[4, 6, 4, 3, 3, 4, 3, 4, 3, 8]\n",
    "dic={}\n",
    "for i in list:\n",
    "    if i in dic:\n",
    "        dic[i]+=1\n",
    "    else:\n",
    "        dic[i]=1\n",
    "k=int(input(\"k= \"))\n",
    "for i in dic:\n",
    "    if dic[i]>int(k):\n",
    "          print(f\"{dic[i]} , {i}\")"
   ]
  },
  {
   "cell_type": "markdown",
   "id": "caca5224",
   "metadata": {},
   "source": [
    "**32-write a python program to find the Strongest Neighbour (Input: 1 2 2 3 4 5\n",
    "Output: 2 2 3 4 5)"
   ]
  },
  {
   "cell_type": "code",
   "execution_count": 48,
   "id": "39fbd9b2",
   "metadata": {},
   "outputs": [
    {
     "name": "stdout",
     "output_type": "stream",
     "text": [
      "2\n",
      "2\n",
      "3\n",
      "4\n",
      "5\n"
     ]
    }
   ],
   "source": [
    "list=[1,2,2,3,4,5]\n",
    "\n",
    "for i in range(0,len(list)-1):\n",
    "    print(max(list[i],list[i+1]))"
   ]
  },
  {
   "cell_type": "markdown",
   "id": "a9fa8baf",
   "metadata": {},
   "source": [
    "**33-write a Python Program to print all Possible Combinations from the three Digits (Input: [1, 2, 3]\n",
    "Output:\n",
    "1 2 3 ##\n",
    "1 3 2 ##\n",
    "2 1 3 ##\n",
    "2 3 1 ##\n",
    "3 1 2 ##\n",
    "3 2 1)"
   ]
  },
  {
   "cell_type": "code",
   "execution_count": 52,
   "id": "8c520a76",
   "metadata": {},
   "outputs": [],
   "source": [
    "list=[1,2,3]\n",
    "for i in range(0,len(list)):\n",
    "    for j in range(0,len(list)):\n",
    "        for k in range(0,len(list)):\n",
    "            if not i==j and i==k and j==k:\n",
    "                print(f\"{i}, {j}, {k}\")"
   ]
  },
  {
   "cell_type": "markdown",
   "id": "5288bb89",
   "metadata": {},
   "source": [
    "**34-write a Python program to find all the Combinations in the list with the given condition (Input: test_list = [1,2,3] \n",
    "Output: \n",
    " [1], [1, 2], [1, 2, 3], [1, 3]\n",
    " [2], [2, 3], [3])"
   ]
  },
  {
   "cell_type": "code",
   "execution_count": null,
   "id": "59b89646",
   "metadata": {},
   "outputs": [],
   "source": [
    "from itertools import combinations\n",
    "mylist=[1,2,3]\n",
    "for i in range(1,len(mylist)+1):\n",
    "        newlist= list(combinations(mylist, i))\n",
    "        print(newlist)\n"
   ]
  },
  {
   "cell_type": "markdown",
   "id": "39973705",
   "metadata": {},
   "source": [
    "**35-write a Python program to get all unique combinations of two Lists (List_1 = [\"a\",\"b\"]\n",
    "List_2 = [1,2]\n",
    "Unique_combination = [[('a',1),('b',2)],[('a',2),('b',1)]] )"
   ]
  },
  {
   "cell_type": "code",
   "execution_count": null,
   "id": "8c4ba22b",
   "metadata": {},
   "outputs": [],
   "source": [
    "list=[1,2,3]\n",
    "for i in range(0,len(list)):\n",
    "    for j in range(0,len(list)):\n",
    "        for k in range(0,len(list)):\n",
    "            if (i != j and j != k and i != k):\n",
    "                print(f\"{list[i]}, {list[j]}, {list[k]}\")"
   ]
  },
  {
   "cell_type": "markdown",
   "id": "25199af5",
   "metadata": {},
   "source": [
    "**36-Remove all the occurrences of an element from a list in Python (Input : 1 1 2 3 4 5 1 2 1 \n",
    "\n",
    "**Output : 2 3 4 5 2)"
   ]
  },
  {
   "cell_type": "code",
   "execution_count": 69,
   "id": "6dc4c2ba",
   "metadata": {},
   "outputs": [
    {
     "name": "stdout",
     "output_type": "stream",
     "text": [
      "enter the num:  1\n",
      "[2, 3, 4, 5, 2]\n"
     ]
    }
   ],
   "source": [
    "list=[1,1,2,3,4,5,1,2,1]\n",
    "newlist=[]\n",
    "k=int(input(\"enter the num:  \"))\n",
    "for i in list:\n",
    "     if not i==k:\n",
    "        newlist.append(list[i])\n",
    "print(newlist)"
   ]
  },
  {
   "cell_type": "markdown",
   "id": "bf1a3c93",
   "metadata": {},
   "source": [
    "**37-write a python program to Replace index elements with elements in Other List (The original list 1 is : [‘Gfg’, ‘is’, ‘best’] The original list 2 is : [0, 1, 2, 1, 0, 0, 0, 2, 1, 1, 2, 0] The lists after index elements replacements is : [‘Gfg’, ‘is’, ‘best’, ‘is’, ‘Gfg’, ‘Gfg’, ‘Gfg’, ‘best’, ‘is’, ‘is’, ‘best’, ‘Gfg’])"
   ]
  },
  {
   "cell_type": "code",
   "execution_count": 71,
   "id": "fdd66a71",
   "metadata": {},
   "outputs": [
    {
     "name": "stdout",
     "output_type": "stream",
     "text": [
      "['Gfg', 'is', 'best', 'is', 'Gfg', 'Gfg', 'Gfg', 'best', 'is', 'is', 'best', 'Gfg']\n"
     ]
    }
   ],
   "source": [
    "list1=[\"Gfg\", \"is\", \"best\"]\n",
    "list2=[0, 1, 2, 1, 0, 0, 0, 2, 1, 1, 2, 0]\n",
    "list3=[]\n",
    "for i in list2:\n",
    "    list3.append(list1[i])\n",
    "print(list3)"
   ]
  },
  {
   "cell_type": "markdown",
   "id": "af0f56e8",
   "metadata": {},
   "source": [
    "**38- write python program to Retain records with N occurrences of K(Input : test_list = [(4, 5, 5, 4), (5, 4, 3)], K = 5, N = 2 \n",
    "Output : [(4, 5, 5, 4)]\n",
    "Input : test_list = [(4, 5, 5, 4), (5, 4, 3)], K = 5, N = 3 \n",
    "Output : [] )"
   ]
  },
  {
   "cell_type": "code",
   "execution_count": 76,
   "id": "67b06671",
   "metadata": {},
   "outputs": [
    {
     "name": "stdout",
     "output_type": "stream",
     "text": [
      "k: 5\n",
      "n: 2\n",
      "[4, 5, 5, 4]\n"
     ]
    }
   ],
   "source": [
    "list=[[4, 5, 5, 4], [5, 4, 3]]\n",
    "k= int(input(\"k: \"))\n",
    "n= int(input(\"n: \"))\n",
    "for i in list:\n",
    "    if i.count(k)==n:\n",
    "        print(i) \n"
   ]
  },
  {
   "cell_type": "markdown",
   "id": "de76f183",
   "metadata": {},
   "source": [
    "**39-write a Python Program to Sort the list according to the column using lambda\n",
    "array = [[1, 3, 3], [2, 1, 2], [3, 2, 1]]\n",
    "Output :\n",
    "Sorted array specific to column 0, [[1, 3, 3], [2, 1, 2], [3, 2, 1]]\n",
    "Sorted array specific to column 1, [[2, 1, 2], [3, 2, 1], [1, 3, 3]]\n",
    "Sorted array specific to column 2, [[3, 2, 1], [2, 1, 2], [1, 3, 3]]"
   ]
  },
  {
   "cell_type": "code",
   "execution_count": null,
   "id": "dc883308",
   "metadata": {},
   "outputs": [],
   "source": []
  },
  {
   "cell_type": "code",
   "execution_count": null,
   "id": "d2e7b31f",
   "metadata": {},
   "outputs": [],
   "source": [
    "**40- write a program to Sort Python Dictionaries by Key or Value\n",
    "Input:\n",
    "{'ravi': 10, 'rajnish': 9, 'sanjeev': 15, 'yash': 2, 'suraj': 32}\n",
    "\n",
    "Output: \n",
    "{'rajnish': 9, 'ravi': 10, 'sanjeev': 15, 'suraj': 32, 'yash': 2}"
   ]
  },
  {
   "cell_type": "code",
   "execution_count": 78,
   "id": "a96db4a0",
   "metadata": {},
   "outputs": [
    {
     "name": "stdout",
     "output_type": "stream",
     "text": [
      "('rajnish', 9) ('ravi', 10) ('sanjeev', 15) ('suraj', 32) ('yash', 2) "
     ]
    }
   ],
   "source": [
    "dic={'ravi': 10, 'rajnish': 9, 'sanjeev': 15, 'yash': 2, 'suraj': 32}\n",
    "for i in sorted(dic) :\n",
    "    print ((i, dic[i]), end =\" \")"
   ]
  },
  {
   "cell_type": "markdown",
   "id": "ec63c23a",
   "metadata": {},
   "source": [
    "**41-write python program to Remove keys with Values Greater than K ( Including mixed values )\n",
    "nput : test_dict = {‘Gfg’ : 3, ‘is’ : 7, ‘best’ : 10, ‘for’ : 6, ‘geeks’ : ‘CS’},\n",
    "K = 7 \n",
    "Output : {‘Gfg’ : 3, ‘for’ : 6, ‘geeks’ : ‘CS’}"
   ]
  },
  {
   "cell_type": "code",
   "execution_count": 87,
   "id": "e39c3a40",
   "metadata": {},
   "outputs": [
    {
     "name": "stdout",
     "output_type": "stream",
     "text": [
      "k: 7\n",
      "{'Gfg': 3, 'for': 6, 'geeks': 'CS'}\n"
     ]
    }
   ],
   "source": [
    "dic={\"Gfg\" : 3, \"is\" : 7, \"best\" : 10, \"for\" : 6, \"geeks\" : \"CS\"}\n",
    "newdic={}\n",
    "k=int(input(\"k: \"))\n",
    "for i in dic:\n",
    "    try:\n",
    "        if not dic[i]>=k:\n",
    "            newdic[i]=dic[i]\n",
    "    except:\n",
    "         if not len(dic[i])>=k:\n",
    "            newdic[i]=dic[i]\n",
    "    \n",
    "print(newdic)\n",
    "        "
   ]
  },
  {
   "cell_type": "markdown",
   "id": "f143f0fe",
   "metadata": {},
   "source": [
    "**42-Write a Python program to concatenate the following dictionaries to create a new one\n",
    "\n",
    "Sample Dictionary :\n",
    "dic1={1:10, 2:20}\n",
    "dic2={3:30, 4:40}\n",
    "dic3={5:50,6:60}\n",
    "Expected Result : {1: 10, 2: 20, 3: 30, 4: 40, 5: 50, 6: 60}"
   ]
  },
  {
   "cell_type": "code",
   "execution_count": 88,
   "id": "74ffdfea",
   "metadata": {},
   "outputs": [
    {
     "name": "stdout",
     "output_type": "stream",
     "text": [
      "{1: 10, 2: 20, 3: 30, 4: 40, 5: 50, 6: 60}\n"
     ]
    }
   ],
   "source": [
    "dic1={1:10, 2:20}\n",
    "dic2={3:30, 4:40}\n",
    "dic3={5:50,6:60}\n",
    "dic4 = {}\n",
    "for d in (dic1, dic2, dic3): dic4.update(d)\n",
    "print(dic4)"
   ]
  },
  {
   "cell_type": "markdown",
   "id": "fb04c93c",
   "metadata": {},
   "source": [
    "**43-Write a Python program to iterate over dictionaries using for loops"
   ]
  },
  {
   "cell_type": "code",
   "execution_count": null,
   "id": "6aebc470",
   "metadata": {},
   "outputs": [],
   "source": [
    "dic={\"Gfg\" : 3, \"is\" : 7, \"best\" : 10, \"for\" : 6, \"geeks\" : \"CS\"}\n",
    "for i in dic:\n",
    "    print(i,\" : \",dic[i])"
   ]
  },
  {
   "cell_type": "markdown",
   "id": "5f491a9d",
   "metadata": {},
   "source": [
    "**44- Write a Python script to merge two Python dictionaries"
   ]
  },
  {
   "cell_type": "code",
   "execution_count": 89,
   "id": "b8a14028",
   "metadata": {},
   "outputs": [
    {
     "name": "stdout",
     "output_type": "stream",
     "text": [
      "{1: 10, 2: 20, 3: 30, 4: 40}\n"
     ]
    }
   ],
   "source": [
    "dic1={1:10, 2:20}\n",
    "dic2={3:30, 4:40}\n",
    "dic4 = {}\n",
    "for d in (dic1, dic2): dic4.update(d)\n",
    "print(dic4)"
   ]
  },
  {
   "cell_type": "raw",
   "id": "a6c0f766",
   "metadata": {},
   "source": [
    " **45-Write a Python program to get the maximum and minimum values of a dictionary values"
   ]
  },
  {
   "cell_type": "code",
   "execution_count": 91,
   "id": "d6883f5f",
   "metadata": {},
   "outputs": [
    {
     "name": "stdout",
     "output_type": "stream",
     "text": [
      "6 60 1 10\n"
     ]
    }
   ],
   "source": [
    "dic={1: 10, 2: 20, 3: 30, 4: 40, 5: 50, 6: 60}\n",
    "print(max(dic),max(dic.values()),min(dic),min(dic.values()))\n"
   ]
  },
  {
   "cell_type": "markdown",
   "id": "b6a53011",
   "metadata": {},
   "source": [
    "**46- Write a Python program to drop empty items from a given dictionary.\n",
    "Original Dictionary:\n",
    "{'c1': 'Red', 'c2': 'Green', 'c3': None}\n",
    "New Dictionary after dropping empty items:\n",
    "{'c1': 'Red', 'c2': 'Green'}"
   ]
  },
  {
   "cell_type": "code",
   "execution_count": 94,
   "id": "b5c6fecf",
   "metadata": {},
   "outputs": [
    {
     "name": "stdout",
     "output_type": "stream",
     "text": [
      "{'c1': 'Red', 'c2': 'Green'}\n"
     ]
    }
   ],
   "source": [
    "dict1 = {'c1': 'Red', 'c2': 'Green', 'c3':None}\n",
    "\n",
    "\n",
    "\n",
    "dict1 = {key:value for (key, value) in dict1.items() if value is not None}\n",
    "print(dict1)"
   ]
  },
  {
   "cell_type": "markdown",
   "id": "46d718c7",
   "metadata": {},
   "source": [
    "**47-Write a Python program to create a tuple of numbers and print one item"
   ]
  },
  {
   "cell_type": "code",
   "execution_count": 97,
   "id": "13216ff5",
   "metadata": {},
   "outputs": [
    {
     "name": "stdout",
     "output_type": "stream",
     "text": [
      "3\n",
      "1\n"
     ]
    }
   ],
   "source": [
    "tuble=(1,3,5,1,31,2)\n",
    "print(tuble[int(input())])"
   ]
  },
  {
   "cell_type": "markdown",
   "id": "2be5b56b",
   "metadata": {},
   "source": [
    "**48-Write a Python program to unpack a tuple into several variables"
   ]
  },
  {
   "cell_type": "code",
   "execution_count": null,
   "id": "595f44be",
   "metadata": {},
   "outputs": [],
   "source": [
    "tuble=(1,3,5,1,31,2)\n",
    "for i in tuble:\n",
    "    print(i)"
   ]
  },
  {
   "cell_type": "markdown",
   "id": "392388a7",
   "metadata": {},
   "source": [
    "**49-Write a Python program to add an item to a tuple"
   ]
  },
  {
   "cell_type": "code",
   "execution_count": 100,
   "id": "54cc092e",
   "metadata": {},
   "outputs": [
    {
     "name": "stdout",
     "output_type": "stream",
     "text": [
      "(1, 3, 5, 1, 31, 2, 9)\n"
     ]
    }
   ],
   "source": [
    "tuble=(1,3,5,1,31,2)\n",
    "print(tuble+(9,))"
   ]
  },
  {
   "cell_type": "code",
   "execution_count": null,
   "id": "9129ac8e",
   "metadata": {},
   "outputs": [],
   "source": []
  },
  {
   "cell_type": "markdown",
   "id": "3e8fd124",
   "metadata": {},
   "source": [
    "**50-Write a Python program to convert a tuple to a string"
   ]
  },
  {
   "cell_type": "code",
   "execution_count": 101,
   "id": "92a71ddc",
   "metadata": {},
   "outputs": [
    {
     "name": "stdout",
     "output_type": "stream",
     "text": [
      "(1, 3, 5, 1, 31, 2)\n"
     ]
    }
   ],
   "source": [
    "tuble=(1,3,5,1,31,2)\n",
    "print(str(tuble))"
   ]
  },
  {
   "cell_type": "markdown",
   "id": "f4f64ef4",
   "metadata": {},
   "source": [
    "**51-Write a Python program to convert a list to a tuple"
   ]
  },
  {
   "cell_type": "code",
   "execution_count": 102,
   "id": "210d56d3",
   "metadata": {},
   "outputs": [],
   "source": [
    "list=[1,3,123,2,51,2,3]\n",
    "tuble=tuple(list)"
   ]
  },
  {
   "cell_type": "markdown",
   "id": "b1e00ef7",
   "metadata": {},
   "source": [
    "**52-Write a Python program to reverse a tuple"
   ]
  },
  {
   "cell_type": "code",
   "execution_count": 107,
   "id": "f45bfdc7",
   "metadata": {},
   "outputs": [
    {
     "name": "stdout",
     "output_type": "stream",
     "text": [
      "(2, 31, 1, 5, 3, 1)\n"
     ]
    }
   ],
   "source": [
    "tuble=(1,3,5,1,31,2)\n",
    "newtub=tuble[::-1]\n",
    "print(newtub)"
   ]
  },
  {
   "cell_type": "markdown",
   "id": "3cd347d1",
   "metadata": {},
   "source": [
    "**53-Write a Python program to replace the last value of tuples in a list.\n",
    "Sample list: [(10, 20, 40), (40, 50, 60), (70, 80, 90)]\n",
    "Expected Output: [(10, 20, 100), (40, 50, 100), (70, 80, 100)]"
   ]
  },
  {
   "cell_type": "code",
   "execution_count": 108,
   "id": "3c4a2a4c",
   "metadata": {},
   "outputs": [
    {
     "name": "stdout",
     "output_type": "stream",
     "text": [
      "enter the value5\n",
      "([10, 20, 5], [40, 50, 5], [70, 80, 5])\n"
     ]
    }
   ],
   "source": [
    "tuble=([10, 20, 40], [40, 50, 60], [70, 80, 90])\n",
    "k=int(input(\"enter the value\"))\n",
    "for i in tuble: \n",
    "    i[-1]=k\n",
    "print(tuble)\n"
   ]
  },
  {
   "cell_type": "markdown",
   "id": "76bb7b39",
   "metadata": {},
   "source": [
    "**54-Write a Python program to convert a given string list to a tuple\n",
    "Original string: python 3.0\n",
    "<class 'str'>\n",
    "Convert the said string to a tuple:\n",
    "('p', 'y', 't', 'h', 'o', 'n', '3', '.', '0')"
   ]
  },
  {
   "cell_type": "code",
   "execution_count": 110,
   "id": "51951937",
   "metadata": {},
   "outputs": [
    {
     "name": "stdout",
     "output_type": "stream",
     "text": [
      "python 3.0\n",
      "('p', 'y', 't', 'h', 'o', 'n', ' ', '3', '.', '0')\n"
     ]
    }
   ],
   "source": [
    "string=input()\n",
    "list=[*string]\n",
    "tuble=tuple(list)\n",
    "print(tuble)"
   ]
  },
  {
   "cell_type": "markdown",
   "id": "5a1d5d97",
   "metadata": {},
   "source": [
    "**55-Write a Python program to calculate the average value of the numbers in a given tuple of tuples"
   ]
  },
  {
   "cell_type": "code",
   "execution_count": 113,
   "id": "834e7992",
   "metadata": {},
   "outputs": [
    {
     "name": "stdout",
     "output_type": "stream",
     "text": [
      "4\n"
     ]
    }
   ],
   "source": [
    "tubles=((1,3,4,3,6),(1,3,5,12,5,1))\n",
    "sum=0\n",
    "total=0\n",
    "for tuble in tubles:\n",
    "    for i in tuble:\n",
    "        sum+=i\n",
    "        total+=1\n",
    "print(int(sum/total))"
   ]
  },
  {
   "cell_type": "markdown",
   "id": "51edab9c",
   "metadata": {},
   "source": [
    "**56-Write a Python program to add member(s) to a set."
   ]
  },
  {
   "cell_type": "code",
   "execution_count": 117,
   "id": "2b65df79",
   "metadata": {},
   "outputs": [
    {
     "name": "stdout",
     "output_type": "stream",
     "text": [
      "3\n",
      "{1, 3, 5}\n"
     ]
    }
   ],
   "source": [
    "set={1,3,3,5,1}\n",
    "set.add(int(input()))\n",
    "print(set)"
   ]
  },
  {
   "cell_type": "markdown",
   "id": "965590cc",
   "metadata": {},
   "source": [
    "**57-Write a Python program to remove an item from a set if it is present in the set."
   ]
  },
  {
   "cell_type": "code",
   "execution_count": 127,
   "id": "866bab28",
   "metadata": {},
   "outputs": [
    {
     "name": "stdout",
     "output_type": "stream",
     "text": [
      "{2, 31}\n"
     ]
    }
   ],
   "source": [
    "set1={1,3,1,3,31,2,1}\n",
    "set2={1,3}\n",
    "set3=set1.difference(set2)\n",
    "print(set3)"
   ]
  },
  {
   "cell_type": "markdown",
   "id": "2b7cfed1",
   "metadata": {},
   "source": [
    "**58-Write a Python program to create an intersection,union,difference and symmetric difference of sets"
   ]
  },
  {
   "cell_type": "code",
   "execution_count": 129,
   "id": "7f94b7fe",
   "metadata": {},
   "outputs": [
    {
     "name": "stdout",
     "output_type": "stream",
     "text": [
      "{1, 2, 3, 7, 8, 31} {1, 3} {2, 31} {2, 7, 8, 31}\n"
     ]
    }
   ],
   "source": [
    "set1={1,3,1,3,31,2,1}\n",
    "set2={1,3,8,7,3}\n",
    "set3=set1.union(set2)\n",
    "set4=set1.intersection(set2)\n",
    "set5=set1.difference(set2)\n",
    "set6=set1.symmetric_difference(set2)\n",
    "print(set3,set4,set5,set6)"
   ]
  },
  {
   "cell_type": "markdown",
   "id": "b94931e2",
   "metadata": {},
   "source": [
    "**59-Write a Python program to find the maximum and minimum values in a set"
   ]
  },
  {
   "cell_type": "code",
   "execution_count": 130,
   "id": "203f9600",
   "metadata": {},
   "outputs": [
    {
     "name": "stdout",
     "output_type": "stream",
     "text": [
      "31 1\n"
     ]
    }
   ],
   "source": [
    "set1={1,3,1,3,31,2,1}\n",
    "print(max(set1),min(set1))"
   ]
  },
  {
   "cell_type": "markdown",
   "id": "255fd554",
   "metadata": {},
   "source": [
    "**60- Write a Python program that finds all pairs of elements in a list whose sum is equal to a given value."
   ]
  },
  {
   "cell_type": "code",
   "execution_count": 133,
   "id": "c2d94e1f",
   "metadata": {},
   "outputs": [
    {
     "name": "stdout",
     "output_type": "stream",
     "text": [
      "value: 6\n",
      "1 5\n",
      "1 5\n",
      "3 3\n",
      "3 3\n",
      "5 1\n"
     ]
    }
   ],
   "source": [
    "list=[1,3,5,1,3,5,13,2]\n",
    "value=int(input(\"value: \"))\n",
    "dic={}\n",
    "for i in list:\n",
    "    \n",
    "    for j in list:\n",
    "        if not k in dic:\n",
    "            if (i+j)==value:\n",
    "                print(i,j)\n",
    "                dic[i]=j\n",
    "\n",
    "        "
   ]
  },
  {
   "cell_type": "code",
   "execution_count": null,
   "id": "454b8e4e",
   "metadata": {},
   "outputs": [],
   "source": []
  }
 ],
 "metadata": {
  "kernelspec": {
   "display_name": "Python 3 (ipykernel)",
   "language": "python",
   "name": "python3"
  },
  "language_info": {
   "codemirror_mode": {
    "name": "ipython",
    "version": 3
   },
   "file_extension": ".py",
   "mimetype": "text/x-python",
   "name": "python",
   "nbconvert_exporter": "python",
   "pygments_lexer": "ipython3",
   "version": "3.11.3"
  }
 },
 "nbformat": 4,
 "nbformat_minor": 5
}
